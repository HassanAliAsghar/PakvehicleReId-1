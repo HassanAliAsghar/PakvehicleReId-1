{
 "cells": [
  {
   "cell_type": "code",
   "execution_count": 1,
   "id": "21a97613",
   "metadata": {},
   "outputs": [],
   "source": [
    "import PIL\n",
    "import os\n",
    "import os.path\n",
    "from PIL import Image\n",
    "\n",
    "\n",
    "path = r'path to your directory'\n",
    "for file in os.listdir(path): \n",
    "    f_img = path+\"/\"+file\n",
    "    img = Image.open(f_img)\n",
    "    img = img.resize((256, 128)) #(width, height)\n",
    "    img.save(f_img)"
   ]
  },
  {
   "cell_type": "code",
   "execution_count": null,
   "id": "bcf6be00",
   "metadata": {},
   "outputs": [],
   "source": []
  }
 ],
 "metadata": {
  "kernelspec": {
   "display_name": "Python 3",
   "language": "python",
   "name": "python3"
  },
  "language_info": {
   "codemirror_mode": {
    "name": "ipython",
    "version": 3
   },
   "file_extension": ".py",
   "mimetype": "text/x-python",
   "name": "python",
   "nbconvert_exporter": "python",
   "pygments_lexer": "ipython3",
   "version": "3.8.8"
  }
 },
 "nbformat": 4,
 "nbformat_minor": 5
}
